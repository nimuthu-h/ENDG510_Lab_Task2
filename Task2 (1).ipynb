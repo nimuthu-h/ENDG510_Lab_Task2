{
 "cells": [
  {
   "cell_type": "code",
   "execution_count": 36,
   "id": "ba1b2725-a9d4-4850-9fcc-dc195b2fe509",
   "metadata": {},
   "outputs": [],
   "source": [
    "#load class\n",
    "import numpy as np\n",
    "import pandas as pd # in case it's not installed then install using conda create\n",
    "#-c conda-forge -n name_of_my_env python pandas\n",
    "# more installations information can be found:\n",
    "#https://pandas.pydata.org/docs/getting_started/install.html\n",
    "import os\n",
    "#load sklearn module for creating and evaluating ML models. In case sklearn isn't\n",
    "#installed,\n",
    "#follow this link https://scikit-learn.org/stable/install.html for further details\n",
    "#on the installation process.\n",
    "from sklearn.neighbors import KNeighborsClassifier #load your classifier. In this\n",
    "#code, I have used KNN. You can choose other algorithms. You have to use at least\n",
    "#3 to complete this.\n",
    "from sklearn.preprocessing import StandardScaler #module for perform scaling\n",
    "from sklearn.model_selection import train_test_split #module for splitting\n",
    "#datatset\n",
    "from sklearn import metrics #module for evaluating performance"
   ]
  },
  {
   "cell_type": "code",
   "execution_count": 37,
   "id": "e1213e28-37cd-4d25-9d71-10f2d22a3ce0",
   "metadata": {},
   "outputs": [
    {
     "data": {
      "text/html": [
       "<div>\n",
       "<style scoped>\n",
       "    .dataframe tbody tr th:only-of-type {\n",
       "        vertical-align: middle;\n",
       "    }\n",
       "\n",
       "    .dataframe tbody tr th {\n",
       "        vertical-align: top;\n",
       "    }\n",
       "\n",
       "    .dataframe thead th {\n",
       "        text-align: right;\n",
       "    }\n",
       "</style>\n",
       "<table border=\"1\" class=\"dataframe\">\n",
       "  <thead>\n",
       "    <tr style=\"text-align: right;\">\n",
       "      <th></th>\n",
       "      <th>Temp</th>\n",
       "      <th>Humd</th>\n",
       "      <th>Label</th>\n",
       "    </tr>\n",
       "  </thead>\n",
       "  <tbody>\n",
       "    <tr>\n",
       "      <th>0</th>\n",
       "      <td>26.7</td>\n",
       "      <td>35.0</td>\n",
       "      <td>1</td>\n",
       "    </tr>\n",
       "    <tr>\n",
       "      <th>1</th>\n",
       "      <td>26.7</td>\n",
       "      <td>35.0</td>\n",
       "      <td>1</td>\n",
       "    </tr>\n",
       "    <tr>\n",
       "      <th>2</th>\n",
       "      <td>26.7</td>\n",
       "      <td>35.0</td>\n",
       "      <td>1</td>\n",
       "    </tr>\n",
       "    <tr>\n",
       "      <th>3</th>\n",
       "      <td>26.7</td>\n",
       "      <td>35.0</td>\n",
       "      <td>1</td>\n",
       "    </tr>\n",
       "    <tr>\n",
       "      <th>4</th>\n",
       "      <td>26.7</td>\n",
       "      <td>35.0</td>\n",
       "      <td>1</td>\n",
       "    </tr>\n",
       "  </tbody>\n",
       "</table>\n",
       "</div>"
      ],
      "text/plain": [
       "   Temp  Humd  Label\n",
       "0  26.7  35.0      1\n",
       "1  26.7  35.0      1\n",
       "2  26.7  35.0      1\n",
       "3  26.7  35.0      1\n",
       "4  26.7  35.0      1"
      ]
     },
     "execution_count": 37,
     "metadata": {},
     "output_type": "execute_result"
    }
   ],
   "source": [
    "#load your data\n",
    "df = pd.read_csv(\"data.csv\") #change the name accordingly\n",
    "df.head() # prints top 5 rows from the datatset to check data is load or not"
   ]
  },
  {
   "cell_type": "code",
   "execution_count": 38,
   "id": "1c313e2d-b754-4529-aaee-cfabbcd2815b",
   "metadata": {},
   "outputs": [
    {
     "name": "stdout",
     "output_type": "stream",
     "text": [
      "Missing Values:\n",
      " Temp     0\n",
      "Humd     0\n",
      "Label    0\n",
      "dtype: int64\n"
     ]
    }
   ],
   "source": [
    "# Check for missing values\n",
    "missing_values = df.isnull().sum()\n",
    "print(\"Missing Values:\\n\", missing_values)"
   ]
  },
  {
   "cell_type": "code",
   "execution_count": 39,
   "id": "bcc5891a-8242-42a7-afee-b21b7368c590",
   "metadata": {},
   "outputs": [],
   "source": [
    "# remove duplicatesd\n",
    "df = df.drop_duplicates()"
   ]
  },
  {
   "cell_type": "code",
   "execution_count": 40,
   "id": "0259a63d-9089-47e3-ba60-14d395de4ec7",
   "metadata": {},
   "outputs": [],
   "source": [
    "# prepare features\n",
    "x = df.drop(['Label'],axis=1) #remove class or label\n",
    "y = df['Label'] #load label"
   ]
  },
  {
   "cell_type": "code",
   "execution_count": 41,
   "id": "f21185b4-1b82-432d-8d69-dfddc9486c4a",
   "metadata": {},
   "outputs": [],
   "source": [
    "x_train,x_test,y_train,y_test = train_test_split(x,y,test_size=.2) #split\n",
    "#datatset. Here ratio is 80:20. Change accordingly"
   ]
  },
  {
   "cell_type": "code",
   "execution_count": 42,
   "id": "3bee0080-a01e-478f-8d4c-3924e9ea361e",
   "metadata": {},
   "outputs": [],
   "source": [
    "# Scale the data using standardization\n",
    "scaler = StandardScaler()\n",
    "x_train = scaler.fit_transform(x_train) #scale training set\n",
    "x_test = scaler.transform(x_test) #scale test set"
   ]
  },
  {
   "cell_type": "code",
   "execution_count": 43,
   "id": "4a828382-6dca-4e14-ac86-71ea119d7cca",
   "metadata": {},
   "outputs": [],
   "source": [
    "z = KNeighborsClassifier(n_neighbors=3) # KNN classifier for 3 neighbours\n",
    "KNN = z.fit(x_train,y_train) # start training\n",
    "predict = KNN.predict(x_test) # performance in the test set"
   ]
  },
  {
   "cell_type": "code",
   "execution_count": 44,
   "id": "935ecd52-61ab-4ac1-9ee8-4dc294ce64c5",
   "metadata": {},
   "outputs": [
    {
     "name": "stdout",
     "output_type": "stream",
     "text": [
      "Accuracy: 0.8974358974358975\n"
     ]
    }
   ],
   "source": [
    "print(\"Accuracy:\", metrics.accuracy_score(y_test,predict)) # evaluating the\n",
    "#performance based on accuracy"
   ]
  },
  {
   "cell_type": "code",
   "execution_count": 45,
   "id": "e329a5e4-fa0e-47e2-ad80-d9d135ab7023",
   "metadata": {},
   "outputs": [],
   "source": [
    "# library for save and load scikit-learn models\n",
    "import pickle\n",
    "# file name, recommending *.pickle as a file extension\n",
    "filename = \"model.pickle\"\n",
    "# save model\n",
    "pickle.dump(z, open(filename, \"wb\"))"
   ]
  },
  {
   "cell_type": "code",
   "execution_count": 46,
   "id": "8687dbac-ac9b-4e9b-860c-9929a438735b",
   "metadata": {},
   "outputs": [
    {
     "name": "stdout",
     "output_type": "stream",
     "text": [
      "Decision Tree Accuracy: 0.8974358974358975\n"
     ]
    }
   ],
   "source": [
    "from sklearn.tree import DecisionTreeClassifier\n",
    "\n",
    "dt = DecisionTreeClassifier(criterion=\"entropy\", max_depth=5, random_state=42)\n",
    "dt.fit(x_train, y_train)\n",
    "predict = dt.predict(x_test)\n",
    "\n",
    "print(\"Decision Tree Accuracy:\", metrics.accuracy_score(y_test, predict))\n"
   ]
  },
  {
   "cell_type": "code",
   "execution_count": 47,
   "id": "0b28ac00-a378-4e9c-99ba-725cbee3f871",
   "metadata": {},
   "outputs": [],
   "source": [
    "import pickle\n",
    "filename = \"decision_tree_model.pickle\"\n",
    "pickle.dump(dt, open(filename, \"wb\"))"
   ]
  },
  {
   "cell_type": "code",
   "execution_count": 48,
   "id": "f7452839-4385-4dcf-8eeb-b5dfbe9d9b06",
   "metadata": {},
   "outputs": [
    {
     "name": "stdout",
     "output_type": "stream",
     "text": [
      "Logistic Regression Accuracy: 0.7948717948717948\n"
     ]
    }
   ],
   "source": [
    "from sklearn.linear_model import LogisticRegression\n",
    "from sklearn import metrics\n",
    "import pickle\n",
    "\n",
    "log_model = LogisticRegression(max_iter=1000, random_state=42)\n",
    "log_model.fit(x_train, y_train)\n",
    "\n",
    "predict = log_model.predict(x_test)\n",
    "\n",
    "print(\"Logistic Regression Accuracy:\", metrics.accuracy_score(y_test, predict)) #need 2 class"
   ]
  },
  {
   "cell_type": "code",
   "execution_count": 49,
   "id": "e711e68f-c324-450f-9131-22afaf329fa7",
   "metadata": {},
   "outputs": [],
   "source": [
    "filename = \"logistic_regression_model.pickle\"\n",
    "pickle.dump(log_model, open(filename, \"wb\"))"
   ]
  },
  {
   "cell_type": "code",
   "execution_count": 50,
   "id": "fab68ee1-5e91-42f4-8dee-9e79e3c039d9",
   "metadata": {},
   "outputs": [
    {
     "name": "stdout",
     "output_type": "stream",
     "text": [
      "SVM Accuracy: 0.7948717948717948\n"
     ]
    }
   ],
   "source": [
    "from sklearn.svm import SVC\n",
    "from sklearn import metrics\n",
    "import pickle\n",
    "\n",
    "svm_model = SVC(kernel='rbf', random_state=42)  # 'rbf' is default; can also try 'linear' or 'poly'\n",
    "svm_model.fit(x_train, y_train)\n",
    "\n",
    "predict = svm_model.predict(x_test)\n",
    "\n",
    "print(\"SVM Accuracy:\", metrics.accuracy_score(y_test, predict)) #need 2 class"
   ]
  },
  {
   "cell_type": "code",
   "execution_count": 51,
   "id": "2718d9d8-cee5-4818-b7e8-1fefd1dec4da",
   "metadata": {},
   "outputs": [],
   "source": [
    "filename = \"svm_model.pickle\"\n",
    "pickle.dump(svm_model, open(filename, \"wb\"))"
   ]
  },
  {
   "cell_type": "code",
   "execution_count": 52,
   "id": "4c676f59-175f-4222-9e95-d0cc22e986ca",
   "metadata": {},
   "outputs": [
    {
     "name": "stdout",
     "output_type": "stream",
     "text": [
      "Random Forest Accuracy: 0.9230769230769231\n"
     ]
    }
   ],
   "source": [
    "# Random Forest Classifier\n",
    "from sklearn.ensemble import RandomForestClassifier\n",
    "from sklearn import metrics\n",
    "import pickle\n",
    "\n",
    "rf_model = RandomForestClassifier(\n",
    "    n_estimators=100,        # number of trees in the forest\n",
    "    random_state=42,         # ensures reproducibility\n",
    "    max_depth=None,          # can limit depth to avoid overfitting\n",
    "    min_samples_split=2\n",
    ")\n",
    "rf_model.fit(x_train, y_train)\n",
    "\n",
    "predict = rf_model.predict(x_test)\n",
    "\n",
    "print(\"Random Forest Accuracy:\", metrics.accuracy_score(y_test, predict))"
   ]
  },
  {
   "cell_type": "code",
   "execution_count": 53,
   "id": "6357b037-5261-4e05-bf3c-5593253040b2",
   "metadata": {},
   "outputs": [
    {
     "name": "stdout",
     "output_type": "stream",
     "text": [
      "              precision    recall  f1-score   support\n",
      "\n",
      "           0       0.94      0.89      0.91        18\n",
      "           1       0.91      0.95      0.93        21\n",
      "\n",
      "    accuracy                           0.92        39\n",
      "   macro avg       0.93      0.92      0.92        39\n",
      "weighted avg       0.92      0.92      0.92        39\n",
      "\n"
     ]
    }
   ],
   "source": [
    "print(metrics.classification_report(y_test, predict))\n",
    "\n",
    "filename = \"random_forest_model.pickle\"\n",
    "pickle.dump(rf_model, open(filename, \"wb\"))"
   ]
  },
  {
   "cell_type": "code",
   "execution_count": null,
   "id": "02da2d8f-52bc-474f-ae82-a7fd4b258a97",
   "metadata": {},
   "outputs": [],
   "source": []
  }
 ],
 "metadata": {
  "kernelspec": {
   "display_name": "Python [conda env:base] *",
   "language": "python",
   "name": "conda-base-py"
  },
  "language_info": {
   "codemirror_mode": {
    "name": "ipython",
    "version": 3
   },
   "file_extension": ".py",
   "mimetype": "text/x-python",
   "name": "python",
   "nbconvert_exporter": "python",
   "pygments_lexer": "ipython3",
   "version": "3.13.5"
  }
 },
 "nbformat": 4,
 "nbformat_minor": 5
}
